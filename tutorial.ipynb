version https://git-lfs.github.com/spec/v1
oid sha256:8992477d55b605568afa0f2e4e257cba10ec94b005cd648a9fd31cdf67f75a7b
size 1307677
